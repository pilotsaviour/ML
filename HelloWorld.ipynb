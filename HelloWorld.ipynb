{
 "cells": [
  {
   "cell_type": "markdown",
   "source": [
    "#*Python For Data Science_Beginner Friendly Full Course in 5hrs by NICHOLAS RENOTTE*\n",
    "I found this beautiful course on YouTube....."
   ],
   "metadata": {
    "collapsed": false
   },
   "id": "41ddd2c1d0ebf1fa"
  },
  {
   "cell_type": "markdown",
   "source": [
    "HelloWorld is my First .ipynb file, I am on the quest to becoming a data scientist very soon, so I will document every step I took along the way and this is one of it, JOIN ME!!!"
   ],
   "metadata": {
    "collapsed": false
   },
   "id": "27277b939d7dd1a0"
  },
  {
   "cell_type": "code",
   "execution_count": 133,
   "outputs": [
    {
     "name": "stdout",
     "output_type": "stream",
     "text": [
      "Hello World\n",
      "Hi Fisa\n",
      "Fisa Welcome to the Ultimate Quest for the Mastery of Data Science\n"
     ]
    }
   ],
   "source": [
    "print(\"Hello World\")\n",
    "print(\"Hi Fisa\") #That's my name\n",
    "print(\"\"\"Fisa Welcome to the Ultimate Quest for the Mastery of Data Science\"\"\")"
   ],
   "metadata": {
    "collapsed": false,
    "ExecuteTime": {
     "end_time": "2023-12-11T19:46:09.882476300Z",
     "start_time": "2023-12-11T19:46:08.758520700Z"
    }
   },
   "id": "3984b90d39964fc7"
  },
  {
   "cell_type": "markdown",
   "source": [
    "#So here we are trying to play it safe, who knew python could be this easy and very readable God Abeg!!! let things go on like this forever"
   ],
   "metadata": {
    "collapsed": false
   },
   "id": "4f902a244c2cf59a"
  },
  {
   "cell_type": "markdown",
   "source": [
    "#Variables, Datatypes, Lists and Dictionaries \n",
    "C - Create\n",
    "R - Read\n",
    "U - Update\n",
    "D - Delete"
   ],
   "metadata": {
    "collapsed": false
   },
   "id": "9b0e0d488f135197"
  },
  {
   "cell_type": "markdown",
   "source": [
    "#Variables"
   ],
   "metadata": {
    "collapsed": false
   },
   "id": "497866a455807084"
  },
  {
   "cell_type": "code",
   "execution_count": 134,
   "outputs": [],
   "source": [
    "space_name = \"Astronaut Fisa\"\n",
    "space_code = 123445\n",
    "space_float = 123.456\n",
    "space_condition = True"
   ],
   "metadata": {
    "collapsed": false,
    "ExecuteTime": {
     "end_time": "2023-12-11T19:46:10.234954700Z",
     "start_time": "2023-12-11T19:46:08.813516100Z"
    }
   },
   "id": "4e67ac14d2b24503"
  },
  {
   "cell_type": "code",
   "execution_count": 135,
   "outputs": [
    {
     "name": "stdout",
     "output_type": "stream",
     "text": [
      "Astronaut Fisa\n",
      "123445\n",
      "123.456\n",
      "True\n"
     ]
    }
   ],
   "source": [
    "print(space_name)\n",
    "print(space_code)\n",
    "print(space_float)\n",
    "print(space_condition)"
   ],
   "metadata": {
    "collapsed": false,
    "ExecuteTime": {
     "end_time": "2023-12-11T19:46:10.330414Z",
     "start_time": "2023-12-11T19:46:08.858515200Z"
    }
   },
   "id": "c88bfe9f14147c07"
  },
  {
   "cell_type": "code",
   "execution_count": 136,
   "outputs": [
    {
     "name": "stdout",
     "output_type": "stream",
     "text": [
      "<class 'str'>\n",
      "<class 'type'>\n",
      "<class 'float'>\n",
      "<class 'int'>\n",
      "<class 'bool'>\n"
     ]
    }
   ],
   "source": [
    "print(type(space_name)) \n",
    "print(type(type(space_name))) #even \"type\" is a data type strange 🤔🤔\n",
    "print(type(space_float))\n",
    "print(type(space_code))\n",
    "print(type(space_condition))"
   ],
   "metadata": {
    "collapsed": false,
    "ExecuteTime": {
     "end_time": "2023-12-11T19:46:10.415779300Z",
     "start_time": "2023-12-11T19:46:08.908522800Z"
    }
   },
   "id": "72acda603b42422d"
  },
  {
   "cell_type": "markdown",
   "source": [
    "str - string\n",
    "int - integer\n",
    "float - eg. 123.456\n",
    "bool - e.g True or False"
   ],
   "metadata": {
    "collapsed": false
   },
   "id": "2edf73aee0c4cd8b"
  },
  {
   "cell_type": "markdown",
   "source": [
    "#Data Types"
   ],
   "metadata": {
    "collapsed": false
   },
   "id": "c924cb2546147c03"
  },
  {
   "cell_type": "code",
   "execution_count": 137,
   "outputs": [
    {
     "name": "stdout",
     "output_type": "stream",
     "text": [
      "Pluto\n"
     ]
    }
   ],
   "source": [
    "# This is declaring a variable as a STRING\n",
    "string_variable = 'Pluto'\n",
    "print(string_variable)"
   ],
   "metadata": {
    "collapsed": false,
    "ExecuteTime": {
     "end_time": "2023-12-11T19:46:10.581475Z",
     "start_time": "2023-12-11T19:46:08.983520400Z"
    }
   },
   "id": "dc4c77ca812ac42c"
  },
  {
   "cell_type": "code",
   "execution_count": 138,
   "outputs": [
    {
     "data": {
      "text/plain": "str"
     },
     "execution_count": 138,
     "metadata": {},
     "output_type": "execute_result"
    }
   ],
   "source": [
    "type(string_variable)"
   ],
   "metadata": {
    "collapsed": false,
    "ExecuteTime": {
     "end_time": "2023-12-11T19:46:10.705814500Z",
     "start_time": "2023-12-11T19:46:09.048519500Z"
    }
   },
   "id": "5e5dfc4b93a313a"
  },
  {
   "cell_type": "code",
   "execution_count": 139,
   "outputs": [
    {
     "name": "stdout",
     "output_type": "stream",
     "text": [
      "12345\n"
     ]
    },
    {
     "data": {
      "text/plain": "int"
     },
     "execution_count": 139,
     "metadata": {},
     "output_type": "execute_result"
    }
   ],
   "source": [
    "#This is declaring a variable as an integer\n",
    "integer_variable = 12345\n",
    "print(integer_variable)\n",
    "type(integer_variable)"
   ],
   "metadata": {
    "collapsed": false,
    "ExecuteTime": {
     "end_time": "2023-12-11T19:46:10.705814500Z",
     "start_time": "2023-12-11T19:46:09.199197600Z"
    }
   },
   "id": "2dbc11c80175dca1"
  },
  {
   "cell_type": "code",
   "execution_count": 140,
   "outputs": [
    {
     "name": "stdout",
     "output_type": "stream",
     "text": [
      "12345.678\n",
      "<class 'float'>\n"
     ]
    }
   ],
   "source": [
    "#This is declaring a variable as a float\n",
    "float_variable =  12345.678\n",
    "print(float_variable)\n",
    "print(type(float_variable))"
   ],
   "metadata": {
    "collapsed": false,
    "ExecuteTime": {
     "end_time": "2023-12-11T19:46:10.705814500Z",
     "start_time": "2023-12-11T19:46:09.254427Z"
    }
   },
   "id": "da73aaea38388d05"
  },
  {
   "cell_type": "code",
   "execution_count": 141,
   "outputs": [
    {
     "name": "stdout",
     "output_type": "stream",
     "text": [
      "True\n",
      "<class 'bool'>\n"
     ]
    }
   ],
   "source": [
    "# This is assigning a Boolean Value to a variable\n",
    "# A Boolean Value can either be True or False\n",
    "bool_variable = True\n",
    "print(bool_variable)\n",
    "print(type(bool_variable))"
   ],
   "metadata": {
    "collapsed": false,
    "ExecuteTime": {
     "end_time": "2023-12-11T19:46:10.715817Z",
     "start_time": "2023-12-11T19:46:09.324869100Z"
    }
   },
   "id": "b750643f3587edcb"
  },
  {
   "cell_type": "markdown",
   "source": [
    "#List (Arrays)\n",
    "They are always wrapped inside a square bracket, and they are separated by a comma"
   ],
   "metadata": {
    "collapsed": false
   },
   "id": "17a937a0f5b0913a"
  },
  {
   "cell_type": "code",
   "execution_count": 142,
   "outputs": [
    {
     "name": "stdout",
     "output_type": "stream",
     "text": [
      "<class 'list'>\n"
     ]
    }
   ],
   "source": [
    "#This is creating a list variable\n",
    "list_variable = [1, 2, 3, 4, 5, 123.33, 334.6]\n",
    "print(type(list_variable))"
   ],
   "metadata": {
    "collapsed": false,
    "ExecuteTime": {
     "end_time": "2023-12-11T19:46:10.715817Z",
     "start_time": "2023-12-11T19:46:09.435617100Z"
    }
   },
   "id": "67bb13605c95a6bb"
  },
  {
   "cell_type": "code",
   "execution_count": 143,
   "outputs": [
    {
     "data": {
      "text/plain": "[1, 2, 3, 4, 5, 123.33, 334.6]"
     },
     "execution_count": 143,
     "metadata": {},
     "output_type": "execute_result"
    }
   ],
   "source": [
    "list_variable"
   ],
   "metadata": {
    "collapsed": false,
    "ExecuteTime": {
     "end_time": "2023-12-11T19:46:10.720824600Z",
     "start_time": "2023-12-11T19:46:09.510957700Z"
    }
   },
   "id": "9f5d40d97eaf0710"
  },
  {
   "cell_type": "markdown",
   "source": [
    "List Indexing\n",
    "The Index of a list starts from 0 so List_Index = [0, 1, 2, 3, 4, ....., n]"
   ],
   "metadata": {
    "collapsed": false
   },
   "id": "398af82f11c5ee7e"
  },
  {
   "cell_type": "code",
   "execution_count": 144,
   "outputs": [
    {
     "data": {
      "text/plain": "1"
     },
     "execution_count": 144,
     "metadata": {},
     "output_type": "execute_result"
    }
   ],
   "source": [
    "list_variable[0]"
   ],
   "metadata": {
    "collapsed": false,
    "ExecuteTime": {
     "end_time": "2023-12-11T19:46:10.720824600Z",
     "start_time": "2023-12-11T19:46:09.591320600Z"
    }
   },
   "id": "24de87bfef6671b3"
  },
  {
   "cell_type": "markdown",
   "source": [
    "Lists are Mutable\n",
    "Mutability of LISTS`"
   ],
   "metadata": {
    "collapsed": false
   },
   "id": "e22969c09739a7ca"
  },
  {
   "cell_type": "code",
   "execution_count": 145,
   "outputs": [
    {
     "data": {
      "text/plain": "[86, 2, 3, 4, 5, 123.33, 334.6]"
     },
     "execution_count": 145,
     "metadata": {},
     "output_type": "execute_result"
    }
   ],
   "source": [
    "# We are currently testing for the Mutability of the python data type list\n",
    "list_variable[0] = 86 # Here we reassined the first value of the list variable to be 86 when before it was 1, and the list just accepts it because lists are mutable\n",
    "list_variable"
   ],
   "metadata": {
    "collapsed": false,
    "ExecuteTime": {
     "end_time": "2023-12-11T19:46:10.720824600Z",
     "start_time": "2023-12-11T19:46:09.681603Z"
    }
   },
   "id": "514ef07156809103"
  },
  {
   "cell_type": "markdown",
   "source": [
    "#TUPLE\n",
    "A Tuple is immutable i.e. cannot be changed\n",
    "A Tuple is a series like the lists wrapped in parentheses ()."
   ],
   "metadata": {
    "collapsed": false
   },
   "id": "6bd9b65bff12565"
  },
  {
   "cell_type": "code",
   "execution_count": 146,
   "outputs": [
    {
     "data": {
      "text/plain": "tuple"
     },
     "execution_count": 146,
     "metadata": {},
     "output_type": "execute_result"
    }
   ],
   "source": [
    "# Creating a Tuple Variable\n",
    "tuple_variable = (1, 2, 3, 4, 5, 9, 6.56, 345,7)\n",
    "type(tuple_variable)"
   ],
   "metadata": {
    "collapsed": false,
    "ExecuteTime": {
     "end_time": "2023-12-11T19:46:10.735825500Z",
     "start_time": "2023-12-11T19:46:09.797166300Z"
    }
   },
   "id": "a2c745a005fcd16f"
  },
  {
   "cell_type": "code",
   "execution_count": 147,
   "outputs": [
    {
     "data": {
      "text/plain": "(1, 2, 3, 4, 5, 9, 6.56, 345, 7)"
     },
     "execution_count": 147,
     "metadata": {},
     "output_type": "execute_result"
    }
   ],
   "source": [
    "tuple_variable"
   ],
   "metadata": {
    "collapsed": false,
    "ExecuteTime": {
     "end_time": "2023-12-11T19:46:11.477640400Z",
     "start_time": "2023-12-11T19:46:09.872509800Z"
    }
   },
   "id": "4c134eb81a947e9e"
  },
  {
   "cell_type": "markdown",
   "source": [
    "Tuple Indexing\n",
    "Just like List Indexing"
   ],
   "metadata": {
    "collapsed": false
   },
   "id": "25588d9f77e27f08"
  },
  {
   "cell_type": "code",
   "execution_count": 148,
   "outputs": [
    {
     "data": {
      "text/plain": "4"
     },
     "execution_count": 148,
     "metadata": {},
     "output_type": "execute_result"
    }
   ],
   "source": [
    "tuple_variable[3]"
   ],
   "metadata": {
    "collapsed": false,
    "ExecuteTime": {
     "end_time": "2023-12-11T19:46:11.478640600Z",
     "start_time": "2023-12-11T19:46:10.024069500Z"
    }
   },
   "id": "e6c1848d63cb3b8d"
  },
  {
   "cell_type": "markdown",
   "source": [
    "IMMUTABILITY OF TUPLES, once created cannot be changed elsewhere"
   ],
   "metadata": {
    "collapsed": false
   },
   "id": "7cfe8a931ca5a251"
  },
  {
   "cell_type": "code",
   "execution_count": 149,
   "outputs": [],
   "source": [
    "# tuple_variable[0] = 87 this will cause an error because tuples cannot be changed...."
   ],
   "metadata": {
    "collapsed": false,
    "ExecuteTime": {
     "end_time": "2023-12-11T19:46:11.479641400Z",
     "start_time": "2023-12-11T19:46:10.129487800Z"
    }
   },
   "id": "ca3b2e2019d732c"
  },
  {
   "cell_type": "markdown",
   "source": [
    "SETS\n",
    "They are wrapped by curly braces {}\n",
    "It is different from tuples because it cannot contain duplicate values i.e. set_variable = {1, 2, 3, 4, 5, 757.7, 1, 2, 3, 4, 5, 757.7} This will not be accepted as values for the set_variable but jupyter notebook will only pick one of the duplicates which is fine.\n",
    "Then set_variable will be equal {1, 2, 3, 4, 5, 757.7}."
   ],
   "metadata": {
    "collapsed": false
   },
   "id": "979ed8c62e4b2c25"
  },
  {
   "cell_type": "code",
   "execution_count": 150,
   "outputs": [
    {
     "data": {
      "text/plain": "set"
     },
     "execution_count": 150,
     "metadata": {},
     "output_type": "execute_result"
    }
   ],
   "source": [
    "# creating a set variable\n",
    "set_variable = {1, 2, 3, 4, 5, 757.7, 1, 2, 3, 4, 5, 757.7}\n",
    "type(set_variable)"
   ],
   "metadata": {
    "collapsed": false,
    "ExecuteTime": {
     "end_time": "2023-12-11T19:46:11.597643Z",
     "start_time": "2023-12-11T19:46:10.229956400Z"
    }
   },
   "id": "8a78fb52a4fe063a"
  },
  {
   "cell_type": "code",
   "execution_count": 151,
   "outputs": [
    {
     "data": {
      "text/plain": "{1, 2, 3, 4, 5, 757.7}"
     },
     "execution_count": 151,
     "metadata": {},
     "output_type": "execute_result"
    }
   ],
   "source": [
    "set_variable"
   ],
   "metadata": {
    "collapsed": false,
    "ExecuteTime": {
     "end_time": "2023-12-11T19:46:11.630642300Z",
     "start_time": "2023-12-11T19:46:10.298273500Z"
    }
   },
   "id": "6b6653e023cca708"
  },
  {
   "cell_type": "markdown",
   "source": [
    "Type Casting List to set back to set to get rid of duplicate\n",
    "Type Casting is like enforcing a data type to become another data type under a specific premise i.e. string_one \"79'ers\"\n",
    "int(string_one) will never work because it has strings inside"
   ],
   "metadata": {
    "collapsed": false
   },
   "id": "25eed2357d9382e8"
  },
  {
   "cell_type": "code",
   "execution_count": 152,
   "outputs": [
    {
     "data": {
      "text/plain": "[1, 2, 3, 4, 5, 1, 2, 3, 5, 6]"
     },
     "execution_count": 152,
     "metadata": {},
     "output_type": "execute_result"
    }
   ],
   "source": [
    "test_list_variable = [1, 2, 3, 4, 5, 1, 2, 3, 5, 6]\n",
    "test_list_variable"
   ],
   "metadata": {
    "collapsed": false,
    "ExecuteTime": {
     "end_time": "2023-12-11T19:46:11.648641700Z",
     "start_time": "2023-12-11T19:46:10.370532Z"
    }
   },
   "id": "43fbc0d482c80f1a"
  },
  {
   "cell_type": "code",
   "execution_count": 153,
   "outputs": [],
   "source": [
    "updated_test_list_variable_1 = set(test_list_variable)"
   ],
   "metadata": {
    "collapsed": false,
    "ExecuteTime": {
     "end_time": "2023-12-11T19:46:11.662724700Z",
     "start_time": "2023-12-11T19:46:10.410808700Z"
    }
   },
   "id": "a4ccccb6f233d6b8"
  },
  {
   "cell_type": "code",
   "execution_count": 154,
   "outputs": [
    {
     "name": "stdout",
     "output_type": "stream",
     "text": [
      "[1, 2, 3, 4, 5, 6]\n"
     ]
    }
   ],
   "source": [
    "updated_test_list_variable_2 = list(updated_test_list_variable_1)\n",
    "print(updated_test_list_variable_2)"
   ],
   "metadata": {
    "collapsed": false,
    "ExecuteTime": {
     "end_time": "2023-12-11T19:46:11.672731300Z",
     "start_time": "2023-12-11T19:46:10.450897900Z"
    }
   },
   "id": "bfc682b6df242c94"
  },
  {
   "cell_type": "markdown",
   "source": [
    "#DICTIONARIES"
   ],
   "metadata": {
    "collapsed": false
   },
   "id": "afe693a2c6a8b978"
  },
  {
   "cell_type": "code",
   "execution_count": 155,
   "outputs": [],
   "source": [
    "# defining a dictionary variable\n",
    "dictionary_variable = {'name': \"Fisa\", \"favourite_color\": \"Black\", \"favourite_language\": \"Python\"}"
   ],
   "metadata": {
    "collapsed": false,
    "ExecuteTime": {
     "end_time": "2023-12-11T19:46:11.677729500Z",
     "start_time": "2023-12-11T19:46:10.496124800Z"
    }
   },
   "id": "414114241e293607"
  }
 ],
 "metadata": {
  "kernelspec": {
   "display_name": "Python 3",
   "language": "python",
   "name": "python3"
  },
  "language_info": {
   "codemirror_mode": {
    "name": "ipython",
    "version": 2
   },
   "file_extension": ".py",
   "mimetype": "text/x-python",
   "name": "python",
   "nbconvert_exporter": "python",
   "pygments_lexer": "ipython2",
   "version": "2.7.6"
  }
 },
 "nbformat": 4,
 "nbformat_minor": 5
}
