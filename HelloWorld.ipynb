{
 "cells": [
  {
   "cell_type": "markdown",
   "id": "41ddd2c1d0ebf1fa",
   "metadata": {
    "collapsed": false
   },
   "source": [
    "# *Python For Data Science_Beginner Friendly Full Course in 5hrs by NICHOLAS RENOTTE*\n",
    "I found this beautiful course on YouTube....."
   ]
  },
  {
   "cell_type": "markdown",
   "id": "27277b939d7dd1a0",
   "metadata": {
    "collapsed": false
   },
   "source": [
    "HelloWorld is my First .ipynb file, I am on the quest to becoming a data scientist very soon, so I will document every step I took along the way and this is one of it, JOIN ME!!!"
   ]
  },
  {
   "cell_type": "code",
   "execution_count": 1,
   "id": "3984b90d39964fc7",
   "metadata": {
    "ExecuteTime": {
     "end_time": "2023-12-14T21:11:15.527746300Z",
     "start_time": "2023-12-14T21:11:12.705853500Z"
    },
    "collapsed": false
   },
   "outputs": [
    {
     "name": "stdout",
     "output_type": "stream",
     "text": [
      "Hello World\n",
      "Hi Fisa\n",
      "Fisa Welcome to the Ultimate Quest for the Mastery of Data Science\n"
     ]
    }
   ],
   "source": [
    "print(\"Hello World\")\n",
    "print(\"Hi Fisa\") #That's my name\n",
    "print(\"\"\"Fisa Welcome to the Ultimate Quest for the Mastery of Data Science\"\"\")"
   ]
  },
  {
   "cell_type": "markdown",
   "id": "4f902a244c2cf59a",
   "metadata": {
    "collapsed": false
   },
   "source": [
    "#So here we are trying to play it safe, who knew python could be this easy and very readable God Abeg!!! let things go on like this forever"
   ]
  },
  {
   "cell_type": "markdown",
   "id": "9b0e0d488f135197",
   "metadata": {
    "collapsed": false
   },
   "source": [
    "#Variables, Datatypes, Lists and Dictionaries \n",
    "C - Create\n",
    "R - Read\n",
    "U - Update\n",
    "D - Delete"
   ]
  },
  {
   "cell_type": "markdown",
   "id": "497866a455807084",
   "metadata": {
    "collapsed": false
   },
   "source": [
    "# 1. Variables"
   ]
  },
  {
   "cell_type": "code",
   "execution_count": 2,
   "id": "4e67ac14d2b24503",
   "metadata": {
    "ExecuteTime": {
     "end_time": "2023-12-14T21:11:15.546741900Z",
     "start_time": "2023-12-14T21:11:12.759642800Z"
    },
    "collapsed": false
   },
   "outputs": [],
   "source": [
    "space_name = \"Astronaut Fisa\"\n",
    "space_code = 123445\n",
    "space_float = 123.456\n",
    "space_condition = True"
   ]
  },
  {
   "cell_type": "code",
   "execution_count": 3,
   "id": "c88bfe9f14147c07",
   "metadata": {
    "ExecuteTime": {
     "end_time": "2023-12-14T21:11:15.547744900Z",
     "start_time": "2023-12-14T21:11:12.784030700Z"
    },
    "collapsed": false
   },
   "outputs": [
    {
     "name": "stdout",
     "output_type": "stream",
     "text": [
      "Astronaut Fisa\n",
      "123445\n",
      "123.456\n",
      "True\n"
     ]
    }
   ],
   "source": [
    "print(space_name)\n",
    "print(space_code)\n",
    "print(space_float)\n",
    "print(space_condition)"
   ]
  },
  {
   "cell_type": "code",
   "execution_count": 4,
   "id": "72acda603b42422d",
   "metadata": {
    "ExecuteTime": {
     "end_time": "2023-12-14T21:11:15.557744100Z",
     "start_time": "2023-12-14T21:11:12.819219100Z"
    },
    "collapsed": false
   },
   "outputs": [
    {
     "name": "stdout",
     "output_type": "stream",
     "text": [
      "<class 'str'>\n",
      "<class 'type'>\n",
      "<class 'float'>\n",
      "<class 'int'>\n",
      "<class 'bool'>\n"
     ]
    }
   ],
   "source": [
    "print(type(space_name)) \n",
    "print(type(type(space_name))) #even \"type\" is a data type strange 🤔🤔\n",
    "print(type(space_float))\n",
    "print(type(space_code))\n",
    "print(type(space_condition))"
   ]
  },
  {
   "cell_type": "markdown",
   "id": "2edf73aee0c4cd8b",
   "metadata": {
    "collapsed": false
   },
   "source": [
    "str - string\n",
    "int - integer\n",
    "float - eg. 123.456\n",
    "bool - e.g True or False"
   ]
  },
  {
   "cell_type": "markdown",
   "id": "c924cb2546147c03",
   "metadata": {
    "collapsed": false
   },
   "source": [
    "# 2. Data Types"
   ]
  },
  {
   "cell_type": "code",
   "execution_count": 5,
   "id": "dc4c77ca812ac42c",
   "metadata": {
    "ExecuteTime": {
     "end_time": "2023-12-14T21:11:15.583749300Z",
     "start_time": "2023-12-14T21:11:12.935833100Z"
    },
    "collapsed": false
   },
   "outputs": [
    {
     "name": "stdout",
     "output_type": "stream",
     "text": [
      "Pluto\n"
     ]
    }
   ],
   "source": [
    "# This is declaring a variable as a STRING\n",
    "string_variable = 'Pluto'\n",
    "print(string_variable)"
   ]
  },
  {
   "cell_type": "code",
   "execution_count": 6,
   "id": "5e5dfc4b93a313a",
   "metadata": {
    "ExecuteTime": {
     "end_time": "2023-12-14T21:11:15.586746900Z",
     "start_time": "2023-12-14T21:11:13.059261700Z"
    },
    "collapsed": false
   },
   "outputs": [
    {
     "data": {
      "text/plain": [
       "str"
      ]
     },
     "execution_count": 6,
     "metadata": {},
     "output_type": "execute_result"
    }
   ],
   "source": [
    "type(string_variable)"
   ]
  },
  {
   "cell_type": "code",
   "execution_count": 7,
   "id": "2dbc11c80175dca1",
   "metadata": {
    "ExecuteTime": {
     "end_time": "2023-12-14T21:11:15.616968100Z",
     "start_time": "2023-12-14T21:11:13.188091100Z"
    },
    "collapsed": false
   },
   "outputs": [
    {
     "name": "stdout",
     "output_type": "stream",
     "text": [
      "12345\n"
     ]
    },
    {
     "data": {
      "text/plain": [
       "int"
      ]
     },
     "execution_count": 7,
     "metadata": {},
     "output_type": "execute_result"
    }
   ],
   "source": [
    "#This is declaring a variable as an integer\n",
    "integer_variable = 12345\n",
    "print(integer_variable)\n",
    "type(integer_variable)"
   ]
  },
  {
   "cell_type": "code",
   "execution_count": 8,
   "id": "da73aaea38388d05",
   "metadata": {
    "ExecuteTime": {
     "end_time": "2023-12-14T21:11:15.625974800Z",
     "start_time": "2023-12-14T21:11:13.248078700Z"
    },
    "collapsed": false
   },
   "outputs": [
    {
     "name": "stdout",
     "output_type": "stream",
     "text": [
      "12345.678\n",
      "<class 'float'>\n"
     ]
    }
   ],
   "source": [
    "#This is declaring a variable as a float\n",
    "float_variable =  12345.678\n",
    "print(float_variable)\n",
    "print(type(float_variable))"
   ]
  },
  {
   "cell_type": "code",
   "execution_count": 9,
   "id": "b750643f3587edcb",
   "metadata": {
    "ExecuteTime": {
     "end_time": "2023-12-14T21:11:15.630969100Z",
     "start_time": "2023-12-14T21:11:13.347255900Z"
    },
    "collapsed": false
   },
   "outputs": [
    {
     "name": "stdout",
     "output_type": "stream",
     "text": [
      "True\n",
      "<class 'bool'>\n"
     ]
    }
   ],
   "source": [
    "# This is assigning a Boolean Value to a variable\n",
    "# A Boolean Value can either be True or False\n",
    "bool_variable = True\n",
    "print(bool_variable)\n",
    "print(type(bool_variable))"
   ]
  },
  {
   "cell_type": "markdown",
   "id": "9a1b4f062085cdfa",
   "metadata": {
    "collapsed": false
   },
   "source": [
    "int\n",
    "str\n",
    "bool\n",
    "list\n",
    "tuple\n",
    "dict\n",
    "set"
   ]
  },
  {
   "cell_type": "markdown",
   "id": "17a937a0f5b0913a",
   "metadata": {
    "collapsed": false
   },
   "source": [
    "# 3. List (Arrays)\n",
    "They are always wrapped inside a square bracket, and they are separated by a comma"
   ]
  },
  {
   "cell_type": "code",
   "execution_count": 10,
   "id": "67bb13605c95a6bb",
   "metadata": {
    "ExecuteTime": {
     "end_time": "2023-12-14T21:11:15.633970900Z",
     "start_time": "2023-12-14T21:11:13.476846300Z"
    },
    "collapsed": false
   },
   "outputs": [
    {
     "name": "stdout",
     "output_type": "stream",
     "text": [
      "<class 'list'>\n"
     ]
    }
   ],
   "source": [
    "#This is creating a list variable\n",
    "list_variable = [1, 2, 3, 4, 5, 123.33, 334.6]\n",
    "print(type(list_variable))"
   ]
  },
  {
   "cell_type": "code",
   "execution_count": 11,
   "id": "9f5d40d97eaf0710",
   "metadata": {
    "ExecuteTime": {
     "end_time": "2023-12-14T21:11:15.653970700Z",
     "start_time": "2023-12-14T21:11:13.576169600Z"
    },
    "collapsed": false
   },
   "outputs": [
    {
     "data": {
      "text/plain": [
       "[1, 2, 3, 4, 5, 123.33, 334.6]"
      ]
     },
     "execution_count": 11,
     "metadata": {},
     "output_type": "execute_result"
    }
   ],
   "source": [
    "list_variable"
   ]
  },
  {
   "cell_type": "markdown",
   "id": "398af82f11c5ee7e",
   "metadata": {
    "collapsed": false
   },
   "source": [
    "List Indexing\n",
    "The Index of a list starts from 0 so List_Index = [0, 1, 2, 3, 4, ....., n]"
   ]
  },
  {
   "cell_type": "code",
   "execution_count": 12,
   "id": "24de87bfef6671b3",
   "metadata": {
    "ExecuteTime": {
     "end_time": "2023-12-14T21:11:15.656970Z",
     "start_time": "2023-12-14T21:11:13.767776700Z"
    },
    "collapsed": false
   },
   "outputs": [
    {
     "data": {
      "text/plain": [
       "1"
      ]
     },
     "execution_count": 12,
     "metadata": {},
     "output_type": "execute_result"
    }
   ],
   "source": [
    "list_variable[0]"
   ]
  },
  {
   "cell_type": "markdown",
   "id": "e22969c09739a7ca",
   "metadata": {
    "collapsed": false
   },
   "source": [
    "Lists are Mutable\n",
    "Mutability of LISTS`"
   ]
  },
  {
   "cell_type": "code",
   "execution_count": 13,
   "id": "514ef07156809103",
   "metadata": {
    "ExecuteTime": {
     "end_time": "2023-12-14T21:11:15.658971300Z",
     "start_time": "2023-12-14T21:11:13.870452100Z"
    },
    "collapsed": false
   },
   "outputs": [
    {
     "data": {
      "text/plain": [
       "[86, 2, 3, 4, 5, 123.33, 334.6]"
      ]
     },
     "execution_count": 13,
     "metadata": {},
     "output_type": "execute_result"
    }
   ],
   "source": [
    "# We are currently testing for the Mutability of the python data type list\n",
    "list_variable[0] = 86 # Here we reassined the first value of the list variable to be 86 when before it was 1, and the list just accepts it because lists are mutable\n",
    "list_variable"
   ]
  },
  {
   "cell_type": "markdown",
   "id": "6bd9b65bff12565",
   "metadata": {
    "collapsed": false
   },
   "source": [
    "# 4. TUPLE\n",
    "A Tuple is immutable i.e. cannot be changed\n",
    "A Tuple is a series like the lists wrapped in parentheses ()."
   ]
  },
  {
   "cell_type": "code",
   "execution_count": 14,
   "id": "a2c745a005fcd16f",
   "metadata": {
    "ExecuteTime": {
     "end_time": "2023-12-14T21:11:15.662968700Z",
     "start_time": "2023-12-14T21:11:13.926089500Z"
    },
    "collapsed": false
   },
   "outputs": [
    {
     "data": {
      "text/plain": [
       "tuple"
      ]
     },
     "execution_count": 14,
     "metadata": {},
     "output_type": "execute_result"
    }
   ],
   "source": [
    "# Creating a Tuple Variable\n",
    "tuple_variable = (1, 2, 3, 4, 5, 9, 6.56, 345,7, 'Hello World')\n",
    "type(tuple_variable)"
   ]
  },
  {
   "cell_type": "code",
   "execution_count": 15,
   "id": "4c134eb81a947e9e",
   "metadata": {
    "ExecuteTime": {
     "end_time": "2023-12-14T21:11:15.664970200Z",
     "start_time": "2023-12-14T21:11:13.984907100Z"
    },
    "collapsed": false
   },
   "outputs": [
    {
     "data": {
      "text/plain": [
       "(1, 2, 3, 4, 5, 9, 6.56, 345, 7, 'Hello World')"
      ]
     },
     "execution_count": 15,
     "metadata": {},
     "output_type": "execute_result"
    }
   ],
   "source": [
    "tuple_variable"
   ]
  },
  {
   "cell_type": "markdown",
   "id": "25588d9f77e27f08",
   "metadata": {
    "collapsed": false
   },
   "source": [
    "Tuple Indexing\n",
    "Just like List Indexing"
   ]
  },
  {
   "cell_type": "code",
   "execution_count": 16,
   "id": "e6c1848d63cb3b8d",
   "metadata": {
    "ExecuteTime": {
     "end_time": "2023-12-14T21:11:15.671969200Z",
     "start_time": "2023-12-14T21:11:14.017763300Z"
    },
    "collapsed": false
   },
   "outputs": [
    {
     "data": {
      "text/plain": [
       "4"
      ]
     },
     "execution_count": 16,
     "metadata": {},
     "output_type": "execute_result"
    }
   ],
   "source": [
    "tuple_variable[3]"
   ]
  },
  {
   "cell_type": "markdown",
   "id": "7cfe8a931ca5a251",
   "metadata": {
    "collapsed": false
   },
   "source": [
    "IMMUTABILITY OF TUPLES, once created cannot be changed elsewhere"
   ]
  },
  {
   "cell_type": "code",
   "execution_count": 17,
   "id": "ca3b2e2019d732c",
   "metadata": {
    "ExecuteTime": {
     "end_time": "2023-12-14T21:11:15.672970500Z",
     "start_time": "2023-12-14T21:11:14.082292800Z"
    },
    "collapsed": false
   },
   "outputs": [],
   "source": [
    "# tuple_variable[0] = 87 this will cause an error because tuples cannot be changed...."
   ]
  },
  {
   "cell_type": "markdown",
   "id": "979ed8c62e4b2c25",
   "metadata": {
    "collapsed": false
   },
   "source": [
    "# 5. SETS\n",
    "They are wrapped by curly braces {}\n",
    "It is different from tuples because it cannot contain duplicate values i.e. set_variable = {1, 2, 3, 4, 5, 757.7, 1, 2, 3, 4, 5, 757.7} This will not be accepted as values for the set_variable but jupyter notebook will only pick one of the duplicates which is fine.\n",
    "Then set_variable will be equal {1, 2, 3, 4, 5, 757.7}."
   ]
  },
  {
   "cell_type": "code",
   "execution_count": 18,
   "id": "8a78fb52a4fe063a",
   "metadata": {
    "ExecuteTime": {
     "end_time": "2023-12-14T21:11:15.675971600Z",
     "start_time": "2023-12-14T21:11:14.102453Z"
    },
    "collapsed": false
   },
   "outputs": [
    {
     "data": {
      "text/plain": [
       "set"
      ]
     },
     "execution_count": 18,
     "metadata": {},
     "output_type": "execute_result"
    }
   ],
   "source": [
    "# creating a set variable\n",
    "set_variable = {1, 2, 3, 4, 5, 757.7, 1, 2, 3, 4, 5, 757.7}\n",
    "type(set_variable)"
   ]
  },
  {
   "cell_type": "code",
   "execution_count": 19,
   "id": "6b6653e023cca708",
   "metadata": {
    "ExecuteTime": {
     "end_time": "2023-12-14T21:11:15.680971100Z",
     "start_time": "2023-12-14T21:11:14.252757Z"
    },
    "collapsed": false
   },
   "outputs": [
    {
     "data": {
      "text/plain": [
       "{1, 2, 3, 4, 5, 757.7}"
      ]
     },
     "execution_count": 19,
     "metadata": {},
     "output_type": "execute_result"
    }
   ],
   "source": [
    "set_variable"
   ]
  },
  {
   "cell_type": "markdown",
   "id": "25eed2357d9382e8",
   "metadata": {
    "collapsed": false
   },
   "source": [
    "Type Casting List to set back to set to get rid of duplicate\n",
    "Type Casting is like enforcing a data type to become another data type under a specific premise i.e. string_one \"79'ers\"\n",
    "int(string_one) will never work because it has strings inside"
   ]
  },
  {
   "cell_type": "code",
   "execution_count": 20,
   "id": "43fbc0d482c80f1a",
   "metadata": {
    "ExecuteTime": {
     "end_time": "2023-12-14T21:11:15.682970400Z",
     "start_time": "2023-12-14T21:11:14.318316700Z"
    },
    "collapsed": false
   },
   "outputs": [
    {
     "data": {
      "text/plain": [
       "[1, 2, 3, 4, 5, 1, 2, 3, 5, 6]"
      ]
     },
     "execution_count": 20,
     "metadata": {},
     "output_type": "execute_result"
    }
   ],
   "source": [
    "test_list_variable = [1, 2, 3, 4, 5, 1, 2, 3, 5, 6]\n",
    "test_list_variable"
   ]
  },
  {
   "cell_type": "code",
   "execution_count": 21,
   "id": "a4ccccb6f233d6b8",
   "metadata": {
    "ExecuteTime": {
     "end_time": "2023-12-14T21:11:15.683970400Z",
     "start_time": "2023-12-14T21:11:14.396246200Z"
    },
    "collapsed": false
   },
   "outputs": [],
   "source": [
    "updated_test_list_variable_1 = set(test_list_variable)"
   ]
  },
  {
   "cell_type": "code",
   "execution_count": 22,
   "id": "bfc682b6df242c94",
   "metadata": {
    "ExecuteTime": {
     "end_time": "2023-12-14T21:11:15.686971200Z",
     "start_time": "2023-12-14T21:11:14.438266700Z"
    },
    "collapsed": false
   },
   "outputs": [
    {
     "name": "stdout",
     "output_type": "stream",
     "text": [
      "[1, 2, 3, 4, 5, 6]\n"
     ]
    }
   ],
   "source": [
    "updated_test_list_variable_2 = list(updated_test_list_variable_1)\n",
    "print(updated_test_list_variable_2)"
   ]
  },
  {
   "cell_type": "markdown",
   "id": "afe693a2c6a8b978",
   "metadata": {
    "collapsed": false
   },
   "source": [
    "# 6. DICTIONARIES\n",
    "A dictionary is made up of keys and values e.g {name: #this is a key\n",
    "\"Fisa\" is the value}"
   ]
  },
  {
   "cell_type": "code",
   "execution_count": 23,
   "id": "414114241e293607",
   "metadata": {
    "ExecuteTime": {
     "end_time": "2023-12-14T21:11:15.692969200Z",
     "start_time": "2023-12-14T21:11:14.473494900Z"
    },
    "collapsed": false
   },
   "outputs": [
    {
     "name": "stdout",
     "output_type": "stream",
     "text": [
      "{'name': 'Fisa', 'favourite_color': 'Black', 'favourite_language': 'Python'}\n"
     ]
    },
    {
     "data": {
      "text/plain": [
       "dict"
      ]
     },
     "execution_count": 23,
     "metadata": {},
     "output_type": "execute_result"
    }
   ],
   "source": [
    "# defining a dictionary variable\n",
    "dictionary_variable = {'name': \"Fisa\", \"favourite_color\": \"Black\", \"favourite_language\": \"Python\"}\n",
    "print(dictionary_variable)\n",
    "type(dictionary_variable) "
   ]
  },
  {
   "cell_type": "markdown",
   "id": "784924b93ea07b4f",
   "metadata": {
    "collapsed": false
   },
   "source": [
    "To call a dictionary Value unlike a list "
   ]
  },
  {
   "cell_type": "code",
   "execution_count": 24,
   "id": "e0d06a3ac1201520",
   "metadata": {
    "ExecuteTime": {
     "end_time": "2023-12-14T21:11:15.696967700Z",
     "start_time": "2023-12-14T21:11:14.515421300Z"
    },
    "collapsed": false
   },
   "outputs": [
    {
     "name": "stdout",
     "output_type": "stream",
     "text": [
      "Fisa\n",
      "Black\n"
     ]
    }
   ],
   "source": [
    "print(dictionary_variable[\"name\"]) # This is calling a value in a dictionary \n",
    "print(dictionary_variable[\"favourite_color\"])"
   ]
  },
  {
   "cell_type": "markdown",
   "id": "9ae7108ac5856fb9",
   "metadata": {
    "collapsed": false
   },
   "source": [
    "# 3a. Lists\n",
    "Delving Deeper into Lists"
   ]
  },
  {
   "cell_type": "code",
   "execution_count": 25,
   "id": "bd3e8dd77e9e4aa5",
   "metadata": {
    "ExecuteTime": {
     "end_time": "2023-12-14T21:11:15.703969200Z",
     "start_time": "2023-12-14T21:11:14.577943200Z"
    },
    "collapsed": false
   },
   "outputs": [],
   "source": [
    "# Create\n",
    "names = ['Mercury', 'Venus', 'Earth', 'Mars', 'Jupiter', 'Saturn', 'Uranus']"
   ]
  },
  {
   "cell_type": "code",
   "execution_count": 26,
   "id": "8bf020cd92e506b3",
   "metadata": {
    "ExecuteTime": {
     "end_time": "2023-12-14T21:11:15.706969700Z",
     "start_time": "2023-12-14T21:11:14.749431300Z"
    },
    "collapsed": false
   },
   "outputs": [
    {
     "data": {
      "text/plain": [
       "['Mercury', 'Venus', 'Earth', 'Mars', 'Jupiter', 'Saturn', 'Uranus']"
      ]
     },
     "execution_count": 26,
     "metadata": {},
     "output_type": "execute_result"
    }
   ],
   "source": [
    "# Read\n",
    "names"
   ]
  },
  {
   "cell_type": "code",
   "execution_count": 27,
   "id": "245d8361bf95564a",
   "metadata": {
    "ExecuteTime": {
     "end_time": "2023-12-14T21:11:15.708971500Z",
     "start_time": "2023-12-14T21:11:14.822441200Z"
    },
    "collapsed": false
   },
   "outputs": [
    {
     "data": {
      "text/plain": [
       "'Mercury'"
      ]
     },
     "execution_count": 27,
     "metadata": {},
     "output_type": "execute_result"
    }
   ],
   "source": [
    "names[0]"
   ]
  },
  {
   "cell_type": "code",
   "execution_count": 28,
   "id": "a7f9fc14e23ed371",
   "metadata": {
    "ExecuteTime": {
     "end_time": "2023-12-14T21:11:15.711972100Z",
     "start_time": "2023-12-14T21:11:14.891142200Z"
    },
    "collapsed": false
   },
   "outputs": [
    {
     "data": {
      "text/plain": [
       "'Uranus'"
      ]
     },
     "execution_count": 28,
     "metadata": {},
     "output_type": "execute_result"
    }
   ],
   "source": [
    "names[-1]"
   ]
  },
  {
   "cell_type": "code",
   "execution_count": 29,
   "id": "f364a8b6691dfd07",
   "metadata": {
    "ExecuteTime": {
     "end_time": "2023-12-14T21:11:15.713970400Z",
     "start_time": "2023-12-14T21:11:14.929569100Z"
    },
    "collapsed": false
   },
   "outputs": [
    {
     "data": {
      "text/plain": [
       "7"
      ]
     },
     "execution_count": 29,
     "metadata": {},
     "output_type": "execute_result"
    }
   ],
   "source": [
    "len(names)"
   ]
  },
  {
   "cell_type": "code",
   "execution_count": 30,
   "id": "9b0f44456d2de8b2",
   "metadata": {
    "ExecuteTime": {
     "end_time": "2023-12-14T21:11:15.718969100Z",
     "start_time": "2023-12-14T21:11:14.965615500Z"
    },
    "collapsed": false
   },
   "outputs": [
    {
     "data": {
      "text/plain": [
       "['Mercury', 'Venus', 'Earth', 'Mars', 'Jupiter', 'Saturn', 'Fisa Omosanya']"
      ]
     },
     "execution_count": 30,
     "metadata": {},
     "output_type": "execute_result"
    }
   ],
   "source": [
    "# Update\n",
    "names[-1] = 'Fisa Omosanya'\n",
    "names"
   ]
  },
  {
   "cell_type": "code",
   "execution_count": 31,
   "id": "a33cf143016799e2",
   "metadata": {
    "ExecuteTime": {
     "end_time": "2023-12-14T21:11:15.721969100Z",
     "start_time": "2023-12-14T21:11:15.014118500Z"
    },
    "collapsed": false
   },
   "outputs": [
    {
     "data": {
      "text/plain": [
       "['Mercury',\n",
       " 'Venus',\n",
       " 'Earth',\n",
       " 'Mars',\n",
       " 'Jupiter',\n",
       " 'Saturn',\n",
       " 'Fisa Omosanya',\n",
       " 'elon musk']"
      ]
     },
     "execution_count": 31,
     "metadata": {},
     "output_type": "execute_result"
    }
   ],
   "source": [
    "names.append('elon musk') # This is used to add a new value\n",
    "names"
   ]
  },
  {
   "cell_type": "code",
   "execution_count": 32,
   "id": "37ae9929e1137cc9",
   "metadata": {
    "ExecuteTime": {
     "end_time": "2023-12-14T21:11:15.723975300Z",
     "start_time": "2023-12-14T21:11:15.052570400Z"
    },
    "collapsed": false
   },
   "outputs": [
    {
     "data": {
      "text/plain": [
       "['Richard Branson',\n",
       " 'Mercury',\n",
       " 'Venus',\n",
       " 'Earth',\n",
       " 'Mars',\n",
       " 'Jupiter',\n",
       " 'Saturn',\n",
       " 'Fisa Omosanya',\n",
       " 'elon musk']"
      ]
     },
     "execution_count": 32,
     "metadata": {},
     "output_type": "execute_result"
    }
   ],
   "source": [
    "names.insert(0, 'Richard Branson')\n",
    "names"
   ]
  },
  {
   "cell_type": "code",
   "execution_count": 33,
   "id": "c6b2c3dc331bea2f",
   "metadata": {
    "ExecuteTime": {
     "end_time": "2023-12-14T21:11:15.726969600Z",
     "start_time": "2023-12-14T21:11:15.086143300Z"
    },
    "collapsed": false
   },
   "outputs": [
    {
     "data": {
      "text/plain": [
       "['Richard Branson',\n",
       " 'Mercury',\n",
       " 'Venus',\n",
       " 'Earth',\n",
       " 'Mars',\n",
       " 'Jupiter',\n",
       " 'Saturn',\n",
       " 'elon musk']"
      ]
     },
     "execution_count": 33,
     "metadata": {},
     "output_type": "execute_result"
    }
   ],
   "source": [
    "# Delete\n",
    "del names[-2] # To delete a list value\n",
    "names"
   ]
  },
  {
   "cell_type": "markdown",
   "id": "7d4fe932f3f05958",
   "metadata": {
    "collapsed": false
   },
   "source": [
    "# 6a. DICTIONARIES"
   ]
  },
  {
   "cell_type": "code",
   "execution_count": 34,
   "id": "e0b374a992d16eb8",
   "metadata": {
    "ExecuteTime": {
     "end_time": "2023-12-14T21:11:15.728969Z",
     "start_time": "2023-12-14T21:11:15.120737500Z"
    },
    "collapsed": false
   },
   "outputs": [],
   "source": [
    "# Create\n",
    "astronaut =  {\n",
    "    'name': 'elon musk',\n",
    "    'suit_size': 'large',\n",
    "    'allergies': 'peanuts',\n",
    "}"
   ]
  },
  {
   "cell_type": "code",
   "execution_count": 35,
   "id": "a9f94077ed89c535",
   "metadata": {
    "ExecuteTime": {
     "end_time": "2023-12-14T21:11:15.731132400Z",
     "start_time": "2023-12-14T21:11:15.165629100Z"
    },
    "collapsed": false
   },
   "outputs": [
    {
     "data": {
      "text/plain": [
       "'elon musk'"
      ]
     },
     "execution_count": 35,
     "metadata": {},
     "output_type": "execute_result"
    }
   ],
   "source": [
    "# Read\n",
    "astronaut['name'] # To read the value of a dictionary datatype"
   ]
  },
  {
   "cell_type": "code",
   "execution_count": 36,
   "id": "ba01f5cf62421b6b",
   "metadata": {
    "ExecuteTime": {
     "end_time": "2023-12-14T21:11:15.735140700Z",
     "start_time": "2023-12-14T21:11:15.200801800Z"
    },
    "collapsed": false
   },
   "outputs": [
    {
     "name": "stdout",
     "output_type": "stream",
     "text": [
      "large\n",
      "3\n"
     ]
    }
   ],
   "source": [
    "print(astronaut['suit_size'])\n",
    "print(len(astronaut))"
   ]
  },
  {
   "cell_type": "code",
   "execution_count": 37,
   "id": "c87d695953c1c36d",
   "metadata": {
    "ExecuteTime": {
     "end_time": "2023-12-14T21:11:15.737136900Z",
     "start_time": "2023-12-14T21:11:15.297745Z"
    },
    "collapsed": false
   },
   "outputs": [
    {
     "data": {
      "text/plain": [
       "'peanuts'"
      ]
     },
     "execution_count": 37,
     "metadata": {},
     "output_type": "execute_result"
    }
   ],
   "source": [
    "astronaut['allergies']"
   ]
  },
  {
   "cell_type": "code",
   "execution_count": 38,
   "id": "5ae03551937b05bd",
   "metadata": {
    "ExecuteTime": {
     "end_time": "2023-12-14T21:11:15.739137Z",
     "start_time": "2023-12-14T21:11:15.411745400Z"
    },
    "collapsed": false
   },
   "outputs": [
    {
     "data": {
      "text/plain": [
       "dict_keys(['name', 'suit_size', 'allergies'])"
      ]
     },
     "execution_count": 38,
     "metadata": {},
     "output_type": "execute_result"
    }
   ],
   "source": [
    "astronaut.keys() # To find all the keys used in a dictionary data type"
   ]
  },
  {
   "cell_type": "code",
   "execution_count": 39,
   "id": "b8dc1826e929d2c",
   "metadata": {
    "ExecuteTime": {
     "end_time": "2023-12-14T21:11:15.741139200Z",
     "start_time": "2023-12-14T21:11:15.438742600Z"
    },
    "collapsed": false
   },
   "outputs": [
    {
     "data": {
      "text/plain": [
       "dict_values(['elon musk', 'large', 'peanuts'])"
      ]
     },
     "execution_count": 39,
     "metadata": {},
     "output_type": "execute_result"
    }
   ],
   "source": [
    "astronaut.values() # To find all the values stored used in a dictionary data type"
   ]
  },
  {
   "cell_type": "code",
   "execution_count": 40,
   "id": "12ffc29d5bb1fe80",
   "metadata": {
    "ExecuteTime": {
     "end_time": "2023-12-14T21:11:15.743133900Z",
     "start_time": "2023-12-14T21:11:15.497744100Z"
    },
    "collapsed": false
   },
   "outputs": [
    {
     "data": {
      "text/plain": [
       "{'name': 'elon musk', 'suit_size': 'large', 'allergies': 'mango'}"
      ]
     },
     "execution_count": 40,
     "metadata": {},
     "output_type": "execute_result"
    }
   ],
   "source": [
    "# Update\n",
    "astronaut['allergies'] = 'mango' # This is used to update the values of a key in a dictionary datatype\n",
    "astronaut"
   ]
  },
  {
   "cell_type": "code",
   "execution_count": 41,
   "id": "a834935d4d9ca879",
   "metadata": {
    "ExecuteTime": {
     "end_time": "2023-12-14T21:11:18.254957700Z",
     "start_time": "2023-12-14T21:11:15.526743Z"
    },
    "collapsed": false
   },
   "outputs": [
    {
     "data": {
      "text/plain": [
       "{'name': 'elon musk',\n",
       " 'suit_size': 'large',\n",
       " 'allergies': 'mango',\n",
       " 'space_ship': 'Galactic 1'}"
      ]
     },
     "execution_count": 41,
     "metadata": {},
     "output_type": "execute_result"
    }
   ],
   "source": [
    "astronaut ['space_ship'] = 'Galactic 1' # This is used to create a new key and value in a dictionary datatype\n",
    "astronaut"
   ]
  },
  {
   "cell_type": "code",
   "execution_count": 42,
   "id": "236d8ae3b73637de",
   "metadata": {
    "ExecuteTime": {
     "end_time": "2023-12-14T21:11:18.330495500Z",
     "start_time": "2023-12-14T21:11:15.571747100Z"
    },
    "collapsed": false
   },
   "outputs": [
    {
     "data": {
      "text/plain": [
       "{'name': 'elon musk', 'suit_size': 'large', 'allergies': 'mango'}"
      ]
     },
     "execution_count": 42,
     "metadata": {},
     "output_type": "execute_result"
    }
   ],
   "source": [
    "# Delete\n",
    "del astronaut['space_ship'] # To delete a key and its values space_ship, and it's value Galactic 1 was removed.\n",
    "astronaut"
   ]
  },
  {
   "cell_type": "markdown",
   "id": "722402ab0e7416e3",
   "metadata": {
    "collapsed": false
   },
   "source": [
    "# 7. CONDITIONS AND LOGIC"
   ]
  },
  {
   "cell_type": "code",
   "execution_count": 43,
   "id": "76585c2597c4cdb",
   "metadata": {
    "ExecuteTime": {
     "end_time": "2023-12-14T21:11:18.648471900Z",
     "start_time": "2023-12-14T21:11:15.614743400Z"
    },
    "collapsed": false
   },
   "outputs": [
    {
     "name": "stdout",
     "output_type": "stream",
     "text": [
      "Wassup Niel\n"
     ]
    }
   ],
   "source": [
    "# Applying Logic using the if statement\n",
    "name = 'Nick'\n",
    "if name != 'Neil Armstrong':\n",
    "    print('Wassup Niel')"
   ]
  },
  {
   "cell_type": "code",
   "execution_count": 44,
   "id": "cb4e40f45de411d4",
   "metadata": {
    "ExecuteTime": {
     "end_time": "2023-12-14T21:11:19.424063400Z",
     "start_time": "2023-12-14T21:11:15.676972200Z"
    },
    "collapsed": false
   },
   "outputs": [
    {
     "name": "stdout",
     "output_type": "stream",
     "text": [
      "Number is greater than or equal to 5\n"
     ]
    }
   ],
   "source": [
    "test_number = 10\n",
    "if test_number >= 5:\n",
    "    print('Number is greater than or equal to 5')"
   ]
  },
  {
   "cell_type": "code",
   "execution_count": 45,
   "id": "9514bc7d62018143",
   "metadata": {
    "ExecuteTime": {
     "end_time": "2023-12-14T21:11:19.426727200Z",
     "start_time": "2023-12-14T21:11:15.771242800Z"
    },
    "collapsed": false
   },
   "outputs": [
    {
     "name": "stdout",
     "output_type": "stream",
     "text": [
      "False\n"
     ]
    }
   ],
   "source": [
    "probability = 0.4\n",
    "if probability >= 0.5: # probability is greater that than 0.5\n",
    "    print(True)\n",
    "    \n",
    "# Print a statement if probabilty is below 0\n",
    "elif probability < 0:\n",
    "    print(\"Check your probability\")\n",
    "else: # Read else as anything else\n",
    "    print(False)"
   ]
  },
  {
   "cell_type": "code",
   "execution_count": 46,
   "id": "e25332d490103aef",
   "metadata": {
    "ExecuteTime": {
     "end_time": "2023-12-14T21:11:19.430728500Z",
     "start_time": "2023-12-14T21:11:15.812242200Z"
    },
    "collapsed": false
   },
   "outputs": [
    {
     "name": "stdout",
     "output_type": "stream",
     "text": [
      "Elon's here\n"
     ]
    }
   ],
   "source": [
    "# Create an array of lists\n",
    "names_list = ['Neil Armstrong', 'Buzz Aldrin', 'Sally Ride', 'Yuri Gagarin', 'Elon Musk']\n",
    "if 'Elon Musk' in names_list:\n",
    "    print(\"Elon's here\")"
   ]
  },
  {
   "cell_type": "markdown",
   "id": "10bfcb68008a41e7",
   "metadata": {
    "collapsed": false
   },
   "source": [
    "## Logical Operators\n",
    "==        !=        >=     <=      <      >\n"
   ]
  },
  {
   "cell_type": "markdown",
   "id": "6eaa825a2bf163a5",
   "metadata": {
    "collapsed": false
   },
   "source": [
    "# 8. LOOPS"
   ]
  },
  {
   "cell_type": "code",
   "execution_count": 47,
   "id": "a5e39451fd1cd974",
   "metadata": {
    "ExecuteTime": {
     "end_time": "2023-12-14T21:11:19.435726300Z",
     "start_time": "2023-12-14T21:11:15.927618800Z"
    },
    "collapsed": false
   },
   "outputs": [
    {
     "name": "stdout",
     "output_type": "stream",
     "text": [
      "Neil Armstrong\n",
      "We are all pleased to have you here\n",
      "\n",
      "Buzz Aldrin\n",
      "'Sup Buzz\n",
      "\n",
      "Sally Ride\n",
      "We are all pleased to have you here\n",
      "\n",
      "Yuri Gagarin\n",
      "Hey Yuri mah Man 🤨\n",
      "Elon Musk\n",
      "We are all pleased to have you here\n"
     ]
    }
   ],
   "source": [
    "# Initiating a for loop 😎😎\n",
    "for name in names_list:\n",
    "    print(name)\n",
    "    if name == 'Buzz Aldrin':\n",
    "        print(\"'Sup Buzz\\n\")\n",
    "        continue\n",
    "    elif name == 'Yuri Gagarin':\n",
    "        print(\"Hey Yuri mah Man 🤨\")\n",
    "        continue\n",
    "    else:\n",
    "        pass\n",
    "    #Outside the of statement\n",
    "    print(\"We are all pleased to have you here\\n\")\\\n",
    "    # This is a question for you GPT what is \"continue\" doing why is \"We are pleased to have you here\" not showing for Buzz and Yuri and what exactly is pass doing is pass redundant here"
   ]
  },
  {
   "cell_type": "code",
   "execution_count": 47,
   "id": "eabcd172366f77ed",
   "metadata": {
    "ExecuteTime": {
     "end_time": "2023-12-14T21:11:19.443728800Z",
     "start_time": "2023-12-14T21:11:15.986619200Z"
    },
    "collapsed": false
   },
   "outputs": [],
   "source": []
  }
 ],
 "metadata": {
  "kernelspec": {
   "display_name": "Python 3",
   "language": "python",
   "name": "python3"
  },
  "language_info": {
   "codemirror_mode": {
    "name": "ipython",
    "version": 2
   },
   "file_extension": ".py",
   "mimetype": "text/x-python",
   "name": "python",
   "nbconvert_exporter": "python",
   "pygments_lexer": "ipython2",
   "version": "2.7.6"
  }
 },
 "nbformat": 4,
 "nbformat_minor": 5
}
